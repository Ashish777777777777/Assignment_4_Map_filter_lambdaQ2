{
 "cells": [
  {
   "cell_type": "code",
   "execution_count": 5,
   "id": "1767551f",
   "metadata": {},
   "outputs": [
    {
     "name": "stdout",
     "output_type": "stream",
     "text": [
      "Sample list: [1, 2, 3, 4, 5, 6, 7]\n",
      "Triple of list numbers:\n",
      "[3, 6, 9, 12, 15, 18, 21]\n"
     ]
    }
   ],
   "source": [
    "def triple_number(n):\n",
    "    return n * 3\n",
    "\n",
    "# Sample list\n",
    "sample_list = [1, 2, 3, 4, 5, 6, 7]\n",
    "\n",
    "# Use map to triple each number in the list\n",
    "tripled_list = list(map(triple_number, sample_list))\n",
    "\n",
    "print(\"Sample list:\", sample_list)\n",
    "print(\"Triple of list numbers:\")\n",
    "print(tripled_list)\n"
   ]
  },
  {
   "cell_type": "code",
   "execution_count": null,
   "id": "df0f8962",
   "metadata": {},
   "outputs": [],
   "source": []
  }
 ],
 "metadata": {
  "kernelspec": {
   "display_name": "Python 3 (ipykernel)",
   "language": "python",
   "name": "python3"
  },
  "language_info": {
   "codemirror_mode": {
    "name": "ipython",
    "version": 3
   },
   "file_extension": ".py",
   "mimetype": "text/x-python",
   "name": "python",
   "nbconvert_exporter": "python",
   "pygments_lexer": "ipython3",
   "version": "3.10.9"
  }
 },
 "nbformat": 4,
 "nbformat_minor": 5
}
